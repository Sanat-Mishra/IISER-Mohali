{
 "cells": [
  {
   "cell_type": "markdown",
   "metadata": {},
   "source": [
    "## EFFUSE - EFflux of Fearomone for optimal USE\n",
    "[Read More on GitHub](link)"
   ]
  },
  {
   "cell_type": "code",
   "execution_count": 8,
   "metadata": {},
   "outputs": [],
   "source": [
    "#Import libraries\n",
    "from scipy.stats import norm\n",
    "import numpy as np"
   ]
  },
  {
   "cell_type": "code",
   "execution_count": 10,
   "metadata": {},
   "outputs": [
    {
     "name": "stdout",
     "output_type": "stream",
     "text": [
      "Please enter the radius of gyration: 1.98*pow(10,-9)\n"
     ]
    }
   ],
   "source": [
    "#Get rGyration from molecular simulation\n",
    "#Dummy rGyration = 1.98*pow(10,-9)\n",
    "\n",
    "rGyration = float(input(\"Please enter the radius of gyration: \"))\n",
    "dGyration = 2*rGyration\n",
    "#Get coefficient of viscosity (eta) from literature\n",
    "eta = pow(10,-3)\n",
    "\n",
    "#tB is time taken to cover distance equal to diameter of particle.\n",
    "#tB is taken to be mean step size for the simulation.\n",
    "tB = (pow(rGyration,3)*6*3.14*eta)/(1.38*pow(10,-23)*300)\n",
    "scaleFactor = rGyration*pow(10,7) #Scale the smallest step to compensate for increased cell size"
   ]
  },
  {
   "cell_type": "code",
   "execution_count": 7,
   "metadata": {},
   "outputs": [
    {
     "name": "stdout",
     "output_type": "stream",
     "text": [
      "Please enter number of particles: 1\n",
      "Average time to diffuse out =  0.00223738372075 seconds\n"
     ]
    }
   ],
   "source": [
    "#setup cell\n",
    "boxlength = 50\n",
    "box = np.full((boxlength,boxlength,boxlength),scaleFactor)  #(xlength, ylength, zlength) of the box\n",
    "\n",
    "\n",
    "#setup simulations\n",
    "nParticles = int(input(\"Please enter number of particles: \"))\n",
    "diffused_particles = []\n",
    "DiffSteps = []\n",
    "\n",
    "# xi, yi, zi = map(float,input(\"Please enter the coordinates of starting location in 3-touple format: \"))\n",
    "xi,yi,zi = map(float,(5,5,5))\n",
    "\n",
    "\n",
    "#simulation\n",
    "for particle in range(nParticles):\n",
    "    #starting point\n",
    "    x = [xi]\n",
    "    y = [yi]\n",
    "    z = [zi]\n",
    "    step = 0\n",
    "    while x[step-1] > 0 and x[step-1] < boxlength and y[step-1] > 0 and y[step-1] < boxlength and z[step-1] > 0 and z[step-1] < boxlength :\n",
    "        normscale = box[int(x[step-1])][int(y[step-1])][int(z[step-1])]\n",
    "        x.append(x[step-1] + norm.rvs(scale=normscale))\n",
    "        y.append(y[step-1] + norm.rvs(scale=normscale))\n",
    "        z.append(z[step-1] + norm.rvs(scale=normscale))\n",
    "        step = step + 1\n",
    "    diffused_particles.append(zip(x[:step],y[:step],z[:step]))\n",
    "    DiffSteps.append(step)\n",
    "    \n",
    "\n",
    "print (\"Average time to diffuse out = \", np.average(DiffSteps)*tB, \"seconds\"") % Added Parenthesis, required in Python 3.0 and above
   ]
  },
  {
   "cell_type": "code",
   "execution_count": null,
   "metadata": {},
   "outputs": [],
   "source": [
    "#Function to analyze the diffused particles at any given time\n",
    "\n",
    "def tDistribution(t,diffused_particles) :\n",
    "    '''\n",
    "    Input :\n",
    "    t: int, Time at which distribution is required\n",
    "    diffused_partickes: list, List of list of 3-touples. Each sub-list is full history of that particle\n",
    "    Return :\n",
    "    tLocation: list, List of 3-touples each specifying location of undiffused particles at time 't'\n",
    "    nDiffused: int, Number of particles already diffused at time 't'\n",
    "    '''\n",
    "    tLocation = []\n",
    "    nDiffused = 0\n",
    "    for particle in diffused_particles :\n",
    "        try :\n",
    "            tLocation.append(particle[t-1])\n",
    "        except :\n",
    "            nDiffused = nDiffused + 1\n",
    "    return tLocation,nDiffused\n",
    "    "
   ]
  }
 ],
 "metadata": {
  "kernelspec": {
   "display_name": "Python 3",
   "language": "python",
   "name": "python3"
  },
  "language_info": {
   "codemirror_mode": {
    "name": "ipython",
    "version": 2
   },
   "file_extension": ".py",
   "mimetype": "text/x-python",
   "name": "python",
   "nbconvert_exporter": "python",
   "pygments_lexer": "ipython2",
   "version": "2.7.14"
  }
 },
 "nbformat": 4,
 "nbformat_minor": 2
}
